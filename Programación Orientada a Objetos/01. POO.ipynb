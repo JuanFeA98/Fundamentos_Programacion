{
 "cells": [
  {
   "cell_type": "markdown",
   "id": "9ca47f9c-f721-4b8a-9ddf-1a7cc923f1c8",
   "metadata": {},
   "source": [
    "<h1 style='text-align:center; font-weight:1000'>\n",
    "    Programación Orientada a Objetos\n",
    "</h1>"
   ]
  },
  {
   "cell_type": "markdown",
   "id": "0d2e7301-7926-45f2-ba7b-1597e99eb0d4",
   "metadata": {},
   "source": [
    "## **¿Qué resuelve la Programación Orientada a Objetos?**\n",
    "\n",
    "- Código muy largo.\n",
    "\n",
    "- Si algo falla en el código, todo se rompe.\n",
    "\n",
    "- El código estructural es díficil de mantener."
   ]
  },
  {
   "cell_type": "markdown",
   "id": "1752ecf8-5796-46e6-a4c1-d494e30a2cf4",
   "metadata": {},
   "source": [
    "## **Paradigma Orientado a Objetos**\n",
    "\n",
    "Surge a partir de los problemas que tenemos y necesitamos plasmar en código. Esto nos lleva a observar los problemas en **forma de objetos**.\n",
    "\n",
    "Este paradigma se compone de cuatro elementos:\n",
    "\n",
    "1. Clases.\n",
    "2. Propiedades.\n",
    "3. Métodos.\n",
    "4. Objetos.\n",
    "\n",
    "Y consta de cuatro pilares:\n",
    "\n",
    "1. Encapsulamiento.\n",
    "2. Abstracción.\n",
    "3. Herencia\n",
    "4. Polimorfismo"
   ]
  },
  {
   "cell_type": "markdown",
   "id": "4aa4f92b-0d75-40cb-8a09-2ade8f0f7e46",
   "metadata": {},
   "source": [
    "## **Diagramas de modelado**"
   ]
  },
  {
   "cell_type": "markdown",
   "id": "176d9ad6-82c7-4ae2-a5b1-931fbe281234",
   "metadata": {},
   "source": [
    "### **OMT: Object Modeling Techniques**\n",
    "\n",
    "Metodología para el análisis orientado a objetos."
   ]
  },
  {
   "cell_type": "markdown",
   "id": "7241b219-a205-419b-984e-b3e47c152723",
   "metadata": {},
   "source": [
    "### **UML: Unified Modeling Language**\n",
    "\n",
    "Tomó las bases y técnicas de OMT unificándolas. Tenemos más opciones de diagramas como lo son Clases, Casos de Uso, Objetos, Actividades, Iteración, Estados, Implementación."
   ]
  },
  {
   "cell_type": "markdown",
   "id": "9eeb2e0f-24bb-4118-a252-f5fa1ebf3d0c",
   "metadata": {},
   "source": [
    "## **Orientación a Objetos**"
   ]
  },
  {
   "cell_type": "markdown",
   "id": "b3ba9523-244a-4596-999f-5b56ea165fbf",
   "metadata": {},
   "source": [
    "### **Objetos.** \n",
    "\n",
    "Son aquellos que tienen propiedades/atributos y comportamientos Los objetos pueden ser físicos o conceptuales.\n",
    "\n"
   ]
  },
  {
   "cell_type": "code",
   "execution_count": null,
   "id": "d174b658-020c-4f98-8b31-426a3220f66b",
   "metadata": {},
   "outputs": [],
   "source": []
  },
  {
   "cell_type": "code",
   "execution_count": null,
   "id": "8aa3fa35-593b-4620-a683-7b66c61513c2",
   "metadata": {},
   "outputs": [],
   "source": []
  },
  {
   "cell_type": "code",
   "execution_count": null,
   "id": "686a6354-89ee-4dd7-a783-a3496d9e3de5",
   "metadata": {},
   "outputs": [],
   "source": []
  },
  {
   "cell_type": "code",
   "execution_count": null,
   "id": "85d24c4c-464b-44e4-8909-b0ebcdee7b97",
   "metadata": {},
   "outputs": [],
   "source": []
  },
  {
   "cell_type": "code",
   "execution_count": null,
   "id": "1acd79e9-8490-4abf-b2fc-913ef3cbec97",
   "metadata": {},
   "outputs": [],
   "source": []
  },
  {
   "cell_type": "code",
   "execution_count": null,
   "id": "efd60c1b-e39e-40af-b8a0-753350d15bb0",
   "metadata": {},
   "outputs": [],
   "source": []
  },
  {
   "cell_type": "code",
   "execution_count": null,
   "id": "609a0583-7ff0-4a37-8657-1409223b5ff4",
   "metadata": {},
   "outputs": [],
   "source": []
  }
 ],
 "metadata": {
  "kernelspec": {
   "display_name": "Python 3 (ipykernel)",
   "language": "python",
   "name": "python3"
  },
  "language_info": {
   "codemirror_mode": {
    "name": "ipython",
    "version": 3
   },
   "file_extension": ".py",
   "mimetype": "text/x-python",
   "name": "python",
   "nbconvert_exporter": "python",
   "pygments_lexer": "ipython3",
   "version": "3.10.4"
  }
 },
 "nbformat": 4,
 "nbformat_minor": 5
}
