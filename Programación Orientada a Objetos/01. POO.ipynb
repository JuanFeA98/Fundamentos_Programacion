{
 "cells": [
  {
   "cell_type": "markdown",
   "id": "9ca47f9c-f721-4b8a-9ddf-1a7cc923f1c8",
   "metadata": {},
   "source": [
    "<h1 style='text-align:center; font-weight:1000'>\n",
    "    Programación Orientada a Objetos\n",
    "</h1>"
   ]
  },
  {
   "cell_type": "markdown",
   "id": "0d2e7301-7926-45f2-ba7b-1597e99eb0d4",
   "metadata": {},
   "source": [
    "## **¿Qué resuelve la Programación Orientada a Objetos?**\n",
    "\n",
    "- Código muy largo.\n",
    "\n",
    "- Si algo falla en el código, todo se rompe.\n",
    "\n",
    "- El código estructural es díficil de mantener."
   ]
  },
  {
   "cell_type": "markdown",
   "id": "1752ecf8-5796-46e6-a4c1-d494e30a2cf4",
   "metadata": {},
   "source": [
    "## **Paradigma Orientado a Objetos**\n",
    "\n",
    "Surge a partir de los problemas que tenemos y necesitamos plasmar en código. Esto nos lleva a observar los problemas en **forma de objetos**.\n",
    "\n",
    "Este paradigma se compone de cuatro elementos:\n",
    "\n",
    "1. Clases.\n",
    "2. Propiedades.\n",
    "3. Métodos.\n",
    "4. Objetos.\n",
    "\n",
    "Y consta de cuatro pilares:\n",
    "\n",
    "1. Encapsulamiento.\n",
    "2. Abstracción.\n",
    "3. Herencia\n",
    "4. Polimorfismo"
   ]
  },
  {
   "cell_type": "markdown",
   "id": "4aa4f92b-0d75-40cb-8a09-2ade8f0f7e46",
   "metadata": {},
   "source": [
    "## **Diagramas de modelado**"
   ]
  },
  {
   "cell_type": "markdown",
   "id": "176d9ad6-82c7-4ae2-a5b1-931fbe281234",
   "metadata": {},
   "source": [
    "### **OMT: Object Modeling Techniques**\n",
    "\n",
    "Metodología para el análisis orientado a objetos."
   ]
  },
  {
   "cell_type": "markdown",
   "id": "7241b219-a205-419b-984e-b3e47c152723",
   "metadata": {},
   "source": [
    "### **UML: Unified Modeling Language**\n",
    "\n",
    "Tomó las bases y técnicas de OMT unificándolas. Tenemos más opciones de diagramas como lo son Clases, Casos de Uso, Objetos, Actividades, Iteración, Estados, Implementación."
   ]
  },
  {
   "cell_type": "markdown",
   "id": "9eeb2e0f-24bb-4118-a252-f5fa1ebf3d0c",
   "metadata": {},
   "source": [
    "## **Orientación a Objetos**"
   ]
  },
  {
   "cell_type": "markdown",
   "id": "b3ba9523-244a-4596-999f-5b56ea165fbf",
   "metadata": {},
   "source": [
    "### **Objetos.** \n",
    "\n",
    "Son aquellos que tienen propiedades/atributos y comportamientos Los objetos pueden ser físicos o conceptuales.\n",
    "\n",
    "Los **atributos** representan características asociadas a los objetos.\n",
    "\n",
    "Los **comportamientos** definen las operaciones del objeto."
   ]
  },
  {
   "cell_type": "markdown",
   "id": "7ed52d9e-29f7-4b75-afdd-3b619de8f5cf",
   "metadata": {},
   "source": [
    "### **Clases.**\n",
    "\n",
    "Son los modelos sobre los cuales se construyen los objetos. Son la manera de abstraer la realidad a partir del código."
   ]
  },
  {
   "cell_type": "markdown",
   "id": "7537b3e1-1b61-465b-96d3-197000ebaabc",
   "metadata": {},
   "source": [
    "### **Modularidad.**\n",
    "\n",
    "Consiste en dividir un sistema en partes pequeñas, modulos, que pueden funcionar de manera independiente."
   ]
  },
  {
   "cell_type": "markdown",
   "id": "05522ea4-c059-4c41-9456-bd6dca312c5b",
   "metadata": {},
   "source": [
    "### **Herencia**\n",
    "\n",
    "Nos permite crear nuevas clases a partir de otras."
   ]
  },
  {
   "cell_type": "markdown",
   "id": "ddb21f58-45c2-4e54-bb49-3b6800d0a830",
   "metadata": {},
   "source": [
    "## **Creando nuestros Objetos**"
   ]
  },
  {
   "cell_type": "code",
   "execution_count": 1,
   "id": "e568f9cd-d8cb-45c8-a625-d3c0f02da167",
   "metadata": {},
   "outputs": [],
   "source": [
    "class Objeto:\n",
    "    def __init__(self, name):\n",
    "        self.name = name\n",
    "        \n",
    "    def saludo(self):\n",
    "        print(f'Hola, {self.name}')"
   ]
  },
  {
   "cell_type": "code",
   "execution_count": 2,
   "id": "f41c771d-7ae4-4cf6-a380-504b4b7b02b6",
   "metadata": {},
   "outputs": [],
   "source": [
    "p1 = Objeto('Mundo')"
   ]
  },
  {
   "cell_type": "code",
   "execution_count": 3,
   "id": "2a472098-965d-4efa-a82a-2fb2da01277b",
   "metadata": {},
   "outputs": [
    {
     "data": {
      "text/plain": [
       "'Mundo'"
      ]
     },
     "execution_count": 3,
     "metadata": {},
     "output_type": "execute_result"
    }
   ],
   "source": [
    "p1.name"
   ]
  },
  {
   "cell_type": "code",
   "execution_count": 4,
   "id": "f779485a-1e0c-4361-b32a-cd06d5b28329",
   "metadata": {},
   "outputs": [
    {
     "name": "stdout",
     "output_type": "stream",
     "text": [
      "Hola, Mundo\n"
     ]
    }
   ],
   "source": [
    "p1.saludo()"
   ]
  },
  {
   "cell_type": "markdown",
   "id": "876f1cba-e7fe-4a1d-8dfd-ef758810e9e0",
   "metadata": {},
   "source": [
    "## **PROYECTO - Uber**"
   ]
  },
  {
   "cell_type": "markdown",
   "id": "ca791748-f394-403c-a4b4-e9958407bc76",
   "metadata": {},
   "source": [
    "<img src='https://i.imgur.com/r0oFHTr.png'/>"
   ]
  },
  {
   "cell_type": "markdown",
   "id": "25478a25-6d04-4ff5-913c-e7ab5dbe9785",
   "metadata": {},
   "source": [
    "### **1. Creación de las clases**"
   ]
  },
  {
   "cell_type": "code",
   "execution_count": 12,
   "id": "06e921ad-52a1-4028-99a0-86cd2d72f08c",
   "metadata": {},
   "outputs": [],
   "source": [
    "class Account:\n",
    "    identifier = int\n",
    "    name = str\n",
    "    document = str\n",
    "    email = str\n",
    "    password = str"
   ]
  },
  {
   "cell_type": "code",
   "execution_count": 15,
   "id": "05710c83-9be9-4393-8993-3fd0a43eee8a",
   "metadata": {},
   "outputs": [],
   "source": [
    "class Car:\n",
    "    identifier = int\n",
    "    license = str\n",
    "    driver = str\n",
    "    passenger = str"
   ]
  },
  {
   "cell_type": "code",
   "execution_count": 17,
   "id": "aa04d83a-9f38-4b94-a35b-3d8c11702c0e",
   "metadata": {},
   "outputs": [],
   "source": [
    "class Route:\n",
    "    identifier = int\n",
    "    start = []\n",
    "    end = []"
   ]
  },
  {
   "cell_type": "code",
   "execution_count": 18,
   "id": "5ac4bf31-0bca-4ec9-bc55-1bc8c63bc6b0",
   "metadata": {},
   "outputs": [],
   "source": [
    "class Payment:\n",
    "    identifier = int"
   ]
  },
  {
   "cell_type": "code",
   "execution_count": null,
   "id": "e2843053-1836-45eb-8de3-074e4661a61c",
   "metadata": {},
   "outputs": [],
   "source": []
  },
  {
   "cell_type": "code",
   "execution_count": 19,
   "id": "67078b85-9ca9-4215-937f-8f9914a86527",
   "metadata": {},
   "outputs": [],
   "source": [
    "prueba = Car()"
   ]
  },
  {
   "cell_type": "code",
   "execution_count": null,
   "id": "5560e681-7bed-42f9-bc1a-8c4708c141e4",
   "metadata": {},
   "outputs": [],
   "source": []
  },
  {
   "cell_type": "code",
   "execution_count": null,
   "id": "9df2c141-9ccd-4b1a-bfb0-f6e5420cccaf",
   "metadata": {},
   "outputs": [],
   "source": []
  }
 ],
 "metadata": {
  "kernelspec": {
   "display_name": "Python 3 (ipykernel)",
   "language": "python",
   "name": "python3"
  },
  "language_info": {
   "codemirror_mode": {
    "name": "ipython",
    "version": 3
   },
   "file_extension": ".py",
   "mimetype": "text/x-python",
   "name": "python",
   "nbconvert_exporter": "python",
   "pygments_lexer": "ipython3",
   "version": "3.10.4"
  }
 },
 "nbformat": 4,
 "nbformat_minor": 5
}
