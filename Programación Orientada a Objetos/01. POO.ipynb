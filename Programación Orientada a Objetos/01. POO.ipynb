{
 "cells": [
  {
   "cell_type": "markdown",
   "id": "9ca47f9c-f721-4b8a-9ddf-1a7cc923f1c8",
   "metadata": {},
   "source": [
    "<h1 style='text-align:center; font-weight:1000'>\n",
    "    Programación Orientada a Objetos\n",
    "</h1>"
   ]
  },
  {
   "cell_type": "markdown",
   "id": "0d2e7301-7926-45f2-ba7b-1597e99eb0d4",
   "metadata": {},
   "source": [
    "## **¿Qué resuelve la Programación Orientada a Objetos?**\n",
    "\n",
    "- Código muy largo.\n",
    "\n",
    "- Si algo falla en el código, todo se rompe.\n",
    "\n",
    "- El código estructural es díficil de mantener."
   ]
  },
  {
   "cell_type": "markdown",
   "id": "1752ecf8-5796-46e6-a4c1-d494e30a2cf4",
   "metadata": {},
   "source": [
    "## **Paradigma Orientado a Objetos**\n",
    "\n",
    "Surge a partir de los problemas que tenemos y necesitamos plasmar en código. Esto nos lleva a observar los problemas en **forma de objetos**.\n",
    "\n",
    "Este paradigma se compone de cuatro elementos:\n",
    "\n",
    "1. Clases.\n",
    "2. Propiedades.\n",
    "3. Métodos.\n",
    "4. Objetos.\n",
    "\n",
    "Y consta de cuatro pilares:\n",
    "\n",
    "1. Encapsulamiento.\n",
    "2. Abstracción.\n",
    "3. Herencia\n",
    "4. Polimorfismo"
   ]
  },
  {
   "cell_type": "markdown",
   "id": "4aa4f92b-0d75-40cb-8a09-2ade8f0f7e46",
   "metadata": {},
   "source": [
    "## **Diagramas de modelado**"
   ]
  },
  {
   "cell_type": "markdown",
   "id": "176d9ad6-82c7-4ae2-a5b1-931fbe281234",
   "metadata": {},
   "source": [
    "### **OMT: Object Modeling Techniques**\n",
    "\n",
    "Metodología para el análisis orientado a objetos."
   ]
  },
  {
   "cell_type": "markdown",
   "id": "7241b219-a205-419b-984e-b3e47c152723",
   "metadata": {},
   "source": [
    "### **UML: Unified Modeling Language**\n",
    "\n",
    "Tomó las bases y técnicas de OMT unificándolas. Tenemos más opciones de diagramas como lo son Clases, Casos de Uso, Objetos, Actividades, Iteración, Estados, Implementación."
   ]
  },
  {
   "cell_type": "markdown",
   "id": "9eeb2e0f-24bb-4118-a252-f5fa1ebf3d0c",
   "metadata": {},
   "source": [
    "## **Orientación a Objetos**"
   ]
  },
  {
   "cell_type": "markdown",
   "id": "b3ba9523-244a-4596-999f-5b56ea165fbf",
   "metadata": {},
   "source": [
    "### **Objetos.** \n",
    "\n",
    "Son aquellos que tienen propiedades/atributos y comportamientos Los objetos pueden ser físicos o conceptuales.\n",
    "\n",
    "Los **atributos** representan características asociadas a los objetos.\n",
    "\n",
    "Los **comportamientos** definen las operaciones del objeto."
   ]
  },
  {
   "cell_type": "markdown",
   "id": "7ed52d9e-29f7-4b75-afdd-3b619de8f5cf",
   "metadata": {},
   "source": [
    "### **Clases.**\n",
    "\n",
    "Son los modelos sobre los cuales se construyen los objetos. Son la manera de abstraer la realidad a partir del código."
   ]
  },
  {
   "cell_type": "markdown",
   "id": "7537b3e1-1b61-465b-96d3-197000ebaabc",
   "metadata": {},
   "source": [
    "### **Modularidad.**\n",
    "\n",
    "Consiste en dividir un sistema en partes pequeñas, modulos, que pueden funcionar de manera independiente."
   ]
  },
  {
   "cell_type": "markdown",
   "id": "05522ea4-c059-4c41-9456-bd6dca312c5b",
   "metadata": {},
   "source": [
    "### **Herencia**\n",
    "\n",
    "Nos permite crear nuevas clases a partir de otras."
   ]
  },
  {
   "cell_type": "markdown",
   "id": "ddb21f58-45c2-4e54-bb49-3b6800d0a830",
   "metadata": {},
   "source": [
    "## **Creando nuestros Objetos**"
   ]
  },
  {
   "cell_type": "markdown",
   "id": "d30fa6c9-7af5-4466-99bd-eacf2281d38d",
   "metadata": {},
   "source": [
    "### **1. Objeto básico**"
   ]
  },
  {
   "cell_type": "code",
   "execution_count": 1,
   "id": "e568f9cd-d8cb-45c8-a625-d3c0f02da167",
   "metadata": {},
   "outputs": [],
   "source": [
    "class Objeto:\n",
    "    def __init__(self, name):\n",
    "        self.name = name\n",
    "        \n",
    "    def saludo(self):\n",
    "        print(f'Hola, {self.name}')"
   ]
  },
  {
   "cell_type": "code",
   "execution_count": 2,
   "id": "f41c771d-7ae4-4cf6-a380-504b4b7b02b6",
   "metadata": {},
   "outputs": [],
   "source": [
    "p1 = Objeto('Mundo')"
   ]
  },
  {
   "cell_type": "code",
   "execution_count": 3,
   "id": "2a472098-965d-4efa-a82a-2fb2da01277b",
   "metadata": {},
   "outputs": [
    {
     "data": {
      "text/plain": [
       "'Mundo'"
      ]
     },
     "execution_count": 3,
     "metadata": {},
     "output_type": "execute_result"
    }
   ],
   "source": [
    "p1.name"
   ]
  },
  {
   "cell_type": "code",
   "execution_count": 4,
   "id": "f779485a-1e0c-4361-b32a-cd06d5b28329",
   "metadata": {},
   "outputs": [
    {
     "name": "stdout",
     "output_type": "stream",
     "text": [
      "Hola, Mundo\n"
     ]
    }
   ],
   "source": [
    "p1.saludo()"
   ]
  },
  {
   "cell_type": "markdown",
   "id": "6d673fdc-eace-471f-9bae-85a5ce6b0091",
   "metadata": {},
   "source": [
    "### **2. Objeto con atributos globales**"
   ]
  },
  {
   "cell_type": "markdown",
   "id": "107f78ce-c4ba-4a7e-8699-0a223694bc5f",
   "metadata": {},
   "source": [
    "**Ejemplo 1**"
   ]
  },
  {
   "cell_type": "code",
   "execution_count": 7,
   "id": "6566bb53-0ada-40e8-b4a4-6df001a26272",
   "metadata": {},
   "outputs": [],
   "source": [
    "class Employee:\n",
    "    MIN_SALARY = 300000\n",
    "    \n",
    "    def __init__(self, name, salary):\n",
    "        self.name = name,\n",
    "        if salary < Employee.MIN_SALARY:\n",
    "            self.salary = Employee.MIN_SALARY\n",
    "        else:\n",
    "            self.salary = salary"
   ]
  },
  {
   "cell_type": "code",
   "execution_count": 12,
   "id": "679d767c-8a83-4fee-a650-61f155c54d03",
   "metadata": {},
   "outputs": [],
   "source": [
    "empleado = Employee('Juan', 9000000)"
   ]
  },
  {
   "cell_type": "code",
   "execution_count": 13,
   "id": "0b27c0d5-78e0-465b-8036-a6160f0cd355",
   "metadata": {},
   "outputs": [
    {
     "data": {
      "text/plain": [
       "9000000"
      ]
     },
     "execution_count": 13,
     "metadata": {},
     "output_type": "execute_result"
    }
   ],
   "source": [
    "empleado.salary"
   ]
  },
  {
   "cell_type": "code",
   "execution_count": 14,
   "id": "46e1c049-2c06-4009-8e15-108be138cdc2",
   "metadata": {},
   "outputs": [
    {
     "data": {
      "text/plain": [
       "300000"
      ]
     },
     "execution_count": 14,
     "metadata": {},
     "output_type": "execute_result"
    }
   ],
   "source": [
    "empleado.MIN_SALARY"
   ]
  },
  {
   "cell_type": "markdown",
   "id": "af393099-4fcb-4087-a233-68363c5fe8bd",
   "metadata": {},
   "source": [
    "**Ejemplo 2**"
   ]
  },
  {
   "cell_type": "code",
   "execution_count": 59,
   "id": "c2368cc8-6051-499f-a951-e958333adf54",
   "metadata": {},
   "outputs": [],
   "source": [
    "class Player:\n",
    "    MAX_POSITION = 10\n",
    "    \n",
    "    def __init__(self, position=0):\n",
    "        self.position = position\n",
    "        \n",
    "    def move(self, steps):\n",
    "        if self.position + steps < Player.MAX_POSITION:\n",
    "            self.position += steps\n",
    "        else:\n",
    "            self.position = Player.MAX_POSITION\n",
    "            \n",
    "    def draw(self):\n",
    "        drawing = ('-' * self.position)+ '|' + ('-' * (Player.MAX_POSITION - self.position))\n",
    "        print(drawing)"
   ]
  },
  {
   "cell_type": "code",
   "execution_count": 60,
   "id": "2a157bbe-e17f-48a4-8f30-82146360c29c",
   "metadata": {},
   "outputs": [],
   "source": [
    "p1 = Player()"
   ]
  },
  {
   "cell_type": "code",
   "execution_count": 61,
   "id": "ae5def0c-3e21-40ac-92e9-515e9d44618f",
   "metadata": {},
   "outputs": [
    {
     "name": "stdout",
     "output_type": "stream",
     "text": [
      "--|--------\n",
      "------|----\n",
      "----------|\n"
     ]
    }
   ],
   "source": [
    "p1.move(2); p1.draw()\n",
    "p1.move(4); p1.draw()\n",
    "p1.move(6); p1.draw()"
   ]
  },
  {
   "cell_type": "markdown",
   "id": "8304f113-e833-4396-9935-48634f7b0f04",
   "metadata": {},
   "source": [
    "### **3. Metodos de clases**\n",
    "\n",
    "Los metodos de clases nos permiten inicializar objetos de distintas maneras"
   ]
  },
  {
   "cell_type": "code",
   "execution_count": 83,
   "id": "e9b770f4-7052-4726-a65a-f73121568572",
   "metadata": {},
   "outputs": [],
   "source": [
    "from datetime import datetime"
   ]
  },
  {
   "cell_type": "code",
   "execution_count": 99,
   "id": "b6b2fd5a-a92c-483b-a8a3-20cfcef252b4",
   "metadata": {},
   "outputs": [],
   "source": [
    "class BetterDate:\n",
    "    def __init__(self, year, month, day):\n",
    "        self.year, self.month, self.day = year, month, day\n",
    "    \n",
    "    @classmethod\n",
    "    def from_str(cls, datestr):\n",
    "        parts = datestr.split('-')\n",
    "        print(parts)\n",
    "        year, month, day = int(parts[0]), int(parts[1]), int(parts[2])\n",
    "        return cls(year, month, day)\n",
    "                 \n",
    "    @classmethod\n",
    "    def from_datetime(cls, dateobj):\n",
    "        print(dateobj)\n",
    "        year, month, day = dateobj.year, dateobj.month, dateobj.day\n",
    "        return cls(year, month, day)"
   ]
  },
  {
   "cell_type": "code",
   "execution_count": 105,
   "id": "98693d2c-2ad2-4fb9-960d-5ad9dfd0b61e",
   "metadata": {},
   "outputs": [
    {
     "name": "stdout",
     "output_type": "stream",
     "text": [
      "['2021', '10', '10']\n"
     ]
    }
   ],
   "source": [
    "bd = BetterDate.from_str('2021-10-10')"
   ]
  },
  {
   "cell_type": "code",
   "execution_count": 106,
   "id": "651cdd1f-c33a-450d-b668-f3935d70ee46",
   "metadata": {},
   "outputs": [
    {
     "data": {
      "text/plain": [
       "(2021, 10, 10)"
      ]
     },
     "execution_count": 106,
     "metadata": {},
     "output_type": "execute_result"
    }
   ],
   "source": [
    "bd.year, bd.month, bd.day"
   ]
  },
  {
   "cell_type": "code",
   "execution_count": 107,
   "id": "cd1d3d5a-b161-47e9-bc38-416da61286f6",
   "metadata": {},
   "outputs": [
    {
     "name": "stdout",
     "output_type": "stream",
     "text": [
      "2022-06-27 22:24:24.642411\n"
     ]
    }
   ],
   "source": [
    "bd = BetterDate.from_datetime(datetime.today())"
   ]
  },
  {
   "cell_type": "code",
   "execution_count": 108,
   "id": "c054ea21-e211-4682-aa16-0dbd7586a7f4",
   "metadata": {},
   "outputs": [
    {
     "data": {
      "text/plain": [
       "(2022, 6, 27)"
      ]
     },
     "execution_count": 108,
     "metadata": {},
     "output_type": "execute_result"
    }
   ],
   "source": [
    "bd.year, bd.month, bd.day"
   ]
  }
 ],
 "metadata": {
  "kernelspec": {
   "display_name": "Python 3 (ipykernel)",
   "language": "python",
   "name": "python3"
  },
  "language_info": {
   "codemirror_mode": {
    "name": "ipython",
    "version": 3
   },
   "file_extension": ".py",
   "mimetype": "text/x-python",
   "name": "python",
   "nbconvert_exporter": "python",
   "pygments_lexer": "ipython3",
   "version": "3.10.4"
  }
 },
 "nbformat": 4,
 "nbformat_minor": 5
}
