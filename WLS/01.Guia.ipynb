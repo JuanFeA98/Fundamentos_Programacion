{
 "cells": [
  {
   "cell_type": "markdown",
   "metadata": {},
   "source": [
    "# **Habilitar WSL**"
   ]
  },
  {
   "cell_type": "markdown",
   "metadata": {},
   "source": [
    "**1.** Vamos a configuración y desde allí elegimos la opción \"Actualización y seguridad\"\n",
    "\n",
    "**2.** Activamos el \"modo programador\"\n",
    "\n",
    "**3.** Ahora vamos al panel de control, buscamos la sección de \"Programas\" y damos click en \"Activar o desactivar las características de Windows\"\n",
    "\n",
    "**4.** Habilitamos la opción \"Subsistema de Windows para Linux\"\n",
    "\n",
    "**5.** Instalamos Ubuntu desde la tienda de Microsoft"
   ]
  },
  {
   "cell_type": "markdown",
   "metadata": {},
   "source": [
    "**Usuario:** juanfe98\n",
    "\n",
    "**Contraseña** Colombia2022*"
   ]
  },
  {
   "cell_type": "markdown",
   "metadata": {},
   "source": [
    "Actualizar sistema:\n",
    "\n",
    "1. sudo apt update\n",
    "2. sudo apt upgrade"
   ]
  },
  {
   "cell_type": "code",
   "execution_count": null,
   "metadata": {},
   "outputs": [],
   "source": []
  }
 ],
 "metadata": {
  "interpreter": {
   "hash": "71c3f6ba1a7e93589004123e60c5db0dbbebd9b5fc36328f6395a5314b50789b"
  },
  "kernelspec": {
   "display_name": "Python 3.10.4 64-bit (windows store)",
   "language": "python",
   "name": "python3"
  },
  "language_info": {
   "name": "python",
   "version": "3.10.4"
  },
  "orig_nbformat": 4
 },
 "nbformat": 4,
 "nbformat_minor": 2
}
